{
  "nbformat": 4,
  "nbformat_minor": 0,
  "metadata": {
    "colab": {
      "name": "2. 로이터 뉴스 분류(Reuters News Classification).ipynb",
      "provenance": [],
      "collapsed_sections": [],
      "authorship_tag": "ABX9TyPvNgs/d75IXAl+5J3GCG2M",
      "include_colab_link": true
    },
    "kernelspec": {
      "name": "python3",
      "display_name": "Python 3"
    },
    "language_info": {
      "name": "python"
    }
  },
  "cells": [
    {
      "cell_type": "markdown",
      "metadata": {
        "id": "view-in-github",
        "colab_type": "text"
      },
      "source": [
        "<a href=\"https://colab.research.google.com/github/hyxxnii/NLP-Practice/blob/master/RNN%EC%9D%84%20%EC%9D%B4%EC%9A%A9%ED%95%9C%20%ED%85%8D%EC%8A%A4%ED%8A%B8%20%EB%B6%84%EB%A5%98/2.%20%EB%A1%9C%EC%9D%B4%ED%84%B0%20%EB%89%B4%EC%8A%A4%20%EB%B6%84%EB%A5%98(Reuters%20News%20Classification).ipynb\" target=\"_parent\"><img src=\"https://colab.research.google.com/assets/colab-badge.svg\" alt=\"Open In Colab\"/></a>"
      ]
    },
    {
      "cell_type": "markdown",
      "metadata": {
        "id": "wRqVscy4U6XF"
      },
      "source": [
        "Reference: https://wikidocs.net/22933\n",
        "\n",
        "케라스에서 제공하는 로이터 뉴스 데이터를 LSTM을 이용하여 텍스트 분류를 해보자.\n",
        "\n",
        "로이터 뉴스 기사 데이터는 총 11,258개의 뉴스 기사가 46개의 뉴스 카테고리로 분류된다."
      ]
    },
    {
      "cell_type": "markdown",
      "metadata": {
        "id": "YiOhdcIkU9f0"
      },
      "source": [
        "## 데이터 불러오기"
      ]
    },
    {
      "cell_type": "code",
      "metadata": {
        "id": "p94y-NG1U2Wj"
      },
      "source": [
        "from tensorflow.keras.datasets import reuters\n",
        "%matplotlib inline\n",
        "import matplotlib.pyplot as plt\n",
        "import numpy as np\n",
        "import seaborn as sns"
      ],
      "execution_count": 2,
      "outputs": []
    },
    {
      "cell_type": "code",
      "metadata": {
        "colab": {
          "base_uri": "https://localhost:8080/"
        },
        "id": "Azr1lPVUVCRk",
        "outputId": "324ddfba-2e1b-42a0-c78d-90c1f2a3be68"
      },
      "source": [
        "(X_train, y_train), (X_test, y_test) = reuters.load_data(num_words=None, test_split=0.2)\n",
        "# num_words: 데이터에서 등장 빈도 순위로 몇 번째에 해당하는 단어까지만 사용할 것인지 결정\n",
        "# ex) num_words=100: 등장 빈도 순위가 1~100에 해당하는 단어만 사용"
      ],
      "execution_count": 3,
      "outputs": [
        {
          "output_type": "stream",
          "name": "stdout",
          "text": [
            "Downloading data from https://storage.googleapis.com/tensorflow/tf-keras-datasets/reuters.npz\n",
            "2113536/2110848 [==============================] - 0s 0us/step\n",
            "2121728/2110848 [==============================] - 0s 0us/step\n"
          ]
        }
      ]
    },
    {
      "cell_type": "code",
      "metadata": {
        "colab": {
          "base_uri": "https://localhost:8080/"
        },
        "id": "l6q6axmlVEh-",
        "outputId": "68250eb1-8e1f-4047-e5ee-2d33d063bcb5"
      },
      "source": [
        "print('훈련용 뉴스 기사 : {}'.format(len(X_train)))\n",
        "print('테스트용 뉴스 기사 : {}'.format(len(X_test)))\n",
        "num_classes = max(y_train) + 1\n",
        "print('카테고리 : {}'.format(num_classes))"
      ],
      "execution_count": 4,
      "outputs": [
        {
          "output_type": "stream",
          "name": "stdout",
          "text": [
            "훈련용 뉴스 기사 : 8982\n",
            "테스트용 뉴스 기사 : 2246\n",
            "카테고리 : 46\n"
          ]
        }
      ]
    },
    {
      "cell_type": "code",
      "metadata": {
        "colab": {
          "base_uri": "https://localhost:8080/"
        },
        "id": "Tfeub1hFVSwk",
        "outputId": "b7ee6a82-780b-4fbf-d24c-67bf2d33a257"
      },
      "source": [
        "print(X_train[0]) # 첫번째 훈련용 뉴스 기사\n",
        "print(y_train[0]) # 첫번째 훈련용 뉴스 기사의 레이블\n",
        "\n",
        "# 주어진 데이터는 이미 토큰화와 정수 인코딩이 끝난 상태"
      ],
      "execution_count": 7,
      "outputs": [
        {
          "output_type": "stream",
          "name": "stdout",
          "text": [
            "[1, 27595, 28842, 8, 43, 10, 447, 5, 25, 207, 270, 5, 3095, 111, 16, 369, 186, 90, 67, 7, 89, 5, 19, 102, 6, 19, 124, 15, 90, 67, 84, 22, 482, 26, 7, 48, 4, 49, 8, 864, 39, 209, 154, 6, 151, 6, 83, 11, 15, 22, 155, 11, 15, 7, 48, 9, 4579, 1005, 504, 6, 258, 6, 272, 11, 15, 22, 134, 44, 11, 15, 16, 8, 197, 1245, 90, 67, 52, 29, 209, 30, 32, 132, 6, 109, 15, 17, 12]\n",
            "3\n"
          ]
        }
      ]
    },
    {
      "cell_type": "code",
      "metadata": {
        "colab": {
          "base_uri": "https://localhost:8080/",
          "height": 313
        },
        "id": "c6Ry76tpVVSl",
        "outputId": "35a3197d-575e-4d96-d605-32b23438cb89"
      },
      "source": [
        "print('뉴스 기사의 최대 길이 :{}'.format(max(len(l) for l in X_train)))\n",
        "print('뉴스 기사의 평균 길이 :{}'.format(sum(map(len, X_train))/len(X_train)))\n",
        "\n",
        "plt.hist([len(s) for s in X_train], bins=50)\n",
        "plt.xlabel('length of samples')\n",
        "plt.ylabel('number of samples')\n",
        "plt.show()\n",
        "\n",
        "# 대체적으로 대부분의 뉴스가 100~200 사이의 길이를 가진다"
      ],
      "execution_count": 8,
      "outputs": [
        {
          "output_type": "stream",
          "name": "stdout",
          "text": [
            "뉴스 기사의 최대 길이 :2376\n",
            "뉴스 기사의 평균 길이 :145.5398574927633\n"
          ]
        },
        {
          "output_type": "display_data",
          "data": {
            "image/png": "[encoded data removed]",
            "text/plain": [
              "<Figure size 432x288 with 1 Axes>"
            ]
          },
          "metadata": {
            "needs_background": "light"
          }
        }
      ]
    },
    {
      "cell_type": "code",
      "metadata": {
        "colab": {
          "base_uri": "https://localhost:8080/",
          "height": 332
        },
        "id": "5MbMCBdPVsav",
        "outputId": "dff98f7d-9288-47e2-92f4-bd1f267e55ff"
      },
      "source": [
        "fig, axe = plt.subplots(ncols=1)\n",
        "fig.set_size_inches(12,5)\n",
        "sns.countplot(y_train)\n",
        "plt.show()\n",
        "# 3, 4가 가장 많은 레이블을 차지한다."
      ],
      "execution_count": 10,
      "outputs": [
        {
          "output_type": "stream",
          "name": "stderr",
          "text": [
            "/usr/local/lib/python3.7/dist-packages/seaborn/_decorators.py:43: FutureWarning: Pass the following variable as a keyword arg: x. From version 0.12, the only valid positional argument will be `data`, and passing other arguments without an explicit keyword will result in an error or misinterpretation.\n",
            "  FutureWarning\n"
          ]
        },
        {
          "output_type": "display_data",
          "data": {
            "image/png": "[encoded data removed]",
            "text/plain": [
              "<Figure size 864x360 with 1 Axes>"
            ]
          },
          "metadata": {
            "needs_background": "light"
          }
        }
      ]
    },
    {
      "cell_type": "code",
      "metadata": {
        "colab": {
          "base_uri": "https://localhost:8080/"
        },
        "id": "9aRW-7T1V_Zt",
        "outputId": "30efe5ef-a80a-402f-95c1-0e25789e2d9c"
      },
      "source": [
        "# 각 레이블에 대한 정확한 개수\n",
        "unique_elements, counts_elements = np.unique(y_train, return_counts=True)\n",
        "print(\"각 레이블에 대한 빈도수:\")\n",
        "print(np.asarray((unique_elements, counts_elements)))\n"
      ],
      "execution_count": 13,
      "outputs": [
        {
          "output_type": "stream",
          "name": "stdout",
          "text": [
            "각 레이블에 대한 빈도수:\n",
            "[[   0    1    2    3    4    5    6    7    8    9   10   11   12   13\n",
            "    14   15   16   17   18   19   20   21   22   23   24   25   26   27\n",
            "    28   29   30   31   32   33   34   35   36   37   38   39   40   41\n",
            "    42   43   44   45]\n",
            " [  55  432   74 3159 1949   17   48   16  139  101  124  390   49  172\n",
            "    26   20  444   39   66  549  269  100   15   41   62   92   24   15\n",
            "    48   19   45   39   32   11   50   10   49   19   19   24   36   30\n",
            "    13   21   12   18]]\n"
          ]
        }
      ]
    },
    {
      "cell_type": "code",
      "metadata": {
        "id": "b8MdcxQhWL6h"
      },
      "source": [
        "word_to_index = reuters.get_word_index()\n",
        "print(word_to_index)"
      ],
      "execution_count": null,
      "outputs": []
    },
    {
      "cell_type": "markdown",
      "metadata": {
        "id": "QojEIiYeWb2E"
      },
      "source": [
        "출력셀 생략\n",
        "\n",
        "{'mdbl': 10996, 'fawc': 16260, 'degussa': 12089, 'woods': 8803, 'hanging': 13796, 'localized': 20672, 'sation': 20673, 'chanthaburi': 20675, 'refunding': 10997, 'hermann': 8804, 'passsengers': 20676, 'stipulate': 20677, 'heublein': 8352, 'screaming': 20713, 'tcby': 16261, 'four': 185, 'grains': 1642, 'broiler': 20680, 'wooden': 12090, 'wednesday': 1220, 'highveld': 13797, 'duffour': 7593, '0053': 20681, 'elections': 3914, '270': 2563, '271': 3551, '272': 5113, '273': 3552, '274': 3400, 'rudman': 7975, '276': 3401, '277': 3478, '278': 3632, '279': 4309, 'dormancy': 9381, - 이하 생략 -}\n"
      ]
    },
    {
      "cell_type": "code",
      "metadata": {
        "id": "vflWxwvkWoGx"
      },
      "source": [
        "index_to_word = {}\n",
        "for key, value in word_to_index.items():\n",
        "    index_to_word[value] = key"
      ],
      "execution_count": 18,
      "outputs": []
    },
    {
      "cell_type": "code",
      "metadata": {
        "colab": {
          "base_uri": "https://localhost:8080/"
        },
        "id": "H37Jk85ZWVnk",
        "outputId": "3505f8c9-ca1f-4c31-fc96-833bcef2b37a"
      },
      "source": [
        "print('빈도수 상위 28842번 단어 : {}'.format(index_to_word[28842]))"
      ],
      "execution_count": 19,
      "outputs": [
        {
          "output_type": "stream",
          "name": "stdout",
          "text": [
            "빈도수 상위 28842번 단어 : nondiscriminatory\n"
          ]
        }
      ]
    },
    {
      "cell_type": "code",
      "metadata": {
        "colab": {
          "base_uri": "https://localhost:8080/"
        },
        "id": "mphhxVfVWmyZ",
        "outputId": "1f2720bc-c666-4aa5-f345-5dcc91c63cd0"
      },
      "source": [
        "print('빈도수 상위 1번 단어 : {}'.format(index_to_word[1]))"
      ],
      "execution_count": 20,
      "outputs": [
        {
          "output_type": "stream",
          "name": "stdout",
          "text": [
            "빈도수 상위 1번 단어 : the\n"
          ]
        }
      ]
    },
    {
      "cell_type": "code",
      "metadata": {
        "colab": {
          "base_uri": "https://localhost:8080/"
        },
        "id": "LyXieVT4Wsqg",
        "outputId": "6fc9bfce-4b96-4ae9-ad4a-71597ef1bfb9"
      },
      "source": [
        "for index, token in enumerate((\"<pad>\", \"<sos>\", \"<unk>\")):\n",
        "  index_to_word[index] = token\n",
        "\n",
        "# x_train[0] 복원 (전처리된 토큰들이라 완전한 문장은 아님)\n",
        "print(' '.join([index_to_word[index] for index in X_train[0]]))"
      ],
      "execution_count": 22,
      "outputs": [
        {
          "output_type": "stream",
          "name": "stdout",
          "text": [
            "<sos> wattie nondiscriminatory mln loss for plc said at only ended said commonwealth could 1 traders now april 0 a after said from 1985 and from foreign 000 april 0 prices its account year a but in this mln home an states earlier and rise and revs vs 000 its 16 vs 000 a but 3 psbr oils several and shareholders and dividend vs 000 its all 4 vs 000 1 mln agreed largely april 0 are 2 states will billion total and against 000 pct dlrs\n"
          ]
        }
      ]
    },
    {
      "cell_type": "code",
      "metadata": {
        "id": "32kC6toDXAua"
      },
      "source": [
        ""
      ],
      "execution_count": null,
      "outputs": []
    },
    {
      "cell_type": "markdown",
      "metadata": {
        "id": "aEWplZwJXF_x"
      },
      "source": [
        "## 2. LSTM으로 로이터 뉴스 분류하기"
      ]
    },
    {
      "cell_type": "code",
      "metadata": {
        "id": "BlQt25wzXFtk"
      },
      "source": [
        "from tensorflow.keras.datasets import reuters\n",
        "from tensorflow.keras.models import Sequential\n",
        "from tensorflow.keras.layers import Dense, LSTM, Embedding\n",
        "from tensorflow.keras.preprocessing.sequence import pad_sequences\n",
        "from tensorflow.keras.utils import to_categorical\n",
        "from tensorflow.keras.callbacks import EarlyStopping, ModelCheckpoint\n",
        "from tensorflow.keras.models import load_model"
      ],
      "execution_count": 23,
      "outputs": []
    },
    {
      "cell_type": "code",
      "metadata": {
        "id": "DsETq-DqXE_G"
      },
      "source": [
        "# 모델 학습에는 등장 빈도 순서가 가장 많은 상위 1~1000번째 단어들만 사용\n",
        "(X_train, y_train), (X_test, y_test) = reuters.load_data(num_words=1000, test_split=0.2)"
      ],
      "execution_count": 24,
      "outputs": []
    },
    {
      "cell_type": "code",
      "metadata": {
        "id": "cg07bYJ8XTVU"
      },
      "source": [
        "# 패딩\n",
        "max_len = 100\n",
        "X_train = pad_sequences(X_train, maxlen=max_len) \n",
        "X_test = pad_sequences(X_test, maxlen=max_len) "
      ],
      "execution_count": 25,
      "outputs": []
    },
    {
      "cell_type": "code",
      "metadata": {
        "id": "vtXpWALZXVX6"
      },
      "source": [
        "# 레이블 원-핫 인코딩\n",
        "y_train = to_categorical(y_train) \n",
        "y_test = to_categorical(y_test)"
      ],
      "execution_count": 26,
      "outputs": []
    },
    {
      "cell_type": "markdown",
      "metadata": {
        "id": "TDjXWtj5XnO3"
      },
      "source": [
        "Embedding()은 최소 두 개의 인자 필요\n",
        "- 단어 집합의 크기\n",
        "- 임베딩 벡터의 차원"
      ]
    },
    {
      "cell_type": "code",
      "metadata": {
        "id": "rXjbLbw1XgCO"
      },
      "source": [
        "model = Sequential()\n",
        "model.add(Embedding(1000, 120)) \n",
        "model.add(LSTM(120)) # hidden_size\n",
        "model.add(Dense(46, activation='softmax'))"
      ],
      "execution_count": 27,
      "outputs": []
    },
    {
      "cell_type": "code",
      "metadata": {
        "id": "DF11mF--X4YN"
      },
      "source": [
        "# 과적합 방지를 위한 조기 종료]\n",
        "es = EarlyStopping(monitor='val_loss', mode='min', verbose=1, patience=4)\n",
        "# ModelCheckpoint: 검증 데이터의 정확도(val_acc)가 이전보다 좋아질 경우에만 모델을 저장\n",
        "mc = ModelCheckpoint('Reuters_best_model.h5', monitor='val_acc', mode='max', verbose=1, save_best_only=True)"
      ],
      "execution_count": 28,
      "outputs": []
    },
    {
      "cell_type": "code",
      "metadata": {
        "id": "MLvQ1gAJYGmM"
      },
      "source": [
        "# 다중 클래스 분류: 'categorical_crossentropy'\n",
        "model.compile(loss='categorical_crossentropy', optimizer='adam', metrics=['acc'])"
      ],
      "execution_count": 29,
      "outputs": []
    },
    {
      "cell_type": "code",
      "metadata": {
        "colab": {
          "base_uri": "https://localhost:8080/"
        },
        "id": "nJt275kEYNWI",
        "outputId": "206938df-2647-4f34-e0f8-b1d252b64f49"
      },
      "source": [
        "history = model.fit(X_train, y_train, batch_size=128, epochs=30, callbacks=[es, mc], validation_data=(X_test, y_test))\n",
        "\n",
        "# 케라스의 model.fit()에서 validation_data는 실제로 model이 데이터를 훈련하지는 않고 \n",
        "# 에포크마다 정확도와 loss를 출력하여 과적합을 판단하기 위한 용도로만 사용"
      ],
      "execution_count": 30,
      "outputs": [
        {
          "output_type": "stream",
          "name": "stdout",
          "text": [
            "Epoch 1/30\n",
            "71/71 [==============================] - 19s 241ms/step - loss: 2.5730 - acc: 0.3621 - val_loss: 2.1294 - val_acc: 0.4884\n",
            "\n",
            "Epoch 00001: val_acc improved from -inf to 0.48842, saving model to Reuters_best_model.h5\n",
            "Epoch 2/30\n",
            "71/71 [==============================] - 17s 234ms/step - loss: 2.0605 - acc: 0.4905 - val_loss: 2.0120 - val_acc: 0.5085\n",
            "\n",
            "Epoch 00002: val_acc improved from 0.48842 to 0.50846, saving model to Reuters_best_model.h5\n",
            "Epoch 3/30\n",
            "71/71 [==============================] - 17s 234ms/step - loss: 2.0114 - acc: 0.5003 - val_loss: 1.9219 - val_acc: 0.5236\n",
            "\n",
            "Epoch 00003: val_acc improved from 0.50846 to 0.52360, saving model to Reuters_best_model.h5\n",
            "Epoch 4/30\n",
            "71/71 [==============================] - 17s 235ms/step - loss: 1.8064 - acc: 0.5439 - val_loss: 1.7462 - val_acc: 0.5606\n",
            "\n",
            "Epoch 00004: val_acc improved from 0.52360 to 0.56055, saving model to Reuters_best_model.h5\n",
            "Epoch 5/30\n",
            "71/71 [==============================] - 17s 235ms/step - loss: 1.6895 - acc: 0.5632 - val_loss: 1.8513 - val_acc: 0.5214\n",
            "\n",
            "Epoch 00005: val_acc did not improve from 0.56055\n",
            "Epoch 6/30\n",
            "71/71 [==============================] - 17s 236ms/step - loss: 1.6591 - acc: 0.5692 - val_loss: 1.6683 - val_acc: 0.5699\n",
            "\n",
            "Epoch 00006: val_acc improved from 0.56055 to 0.56990, saving model to Reuters_best_model.h5\n",
            "Epoch 7/30\n",
            "71/71 [==============================] - 17s 235ms/step - loss: 1.5481 - acc: 0.6074 - val_loss: 1.6642 - val_acc: 0.5744\n",
            "\n",
            "Epoch 00007: val_acc improved from 0.56990 to 0.57435, saving model to Reuters_best_model.h5\n",
            "Epoch 8/30\n",
            "71/71 [==============================] - 17s 235ms/step - loss: 1.4556 - acc: 0.6279 - val_loss: 1.5591 - val_acc: 0.6082\n",
            "\n",
            "Epoch 00008: val_acc improved from 0.57435 to 0.60819, saving model to Reuters_best_model.h5\n",
            "Epoch 9/30\n",
            "71/71 [==============================] - 17s 235ms/step - loss: 1.3699 - acc: 0.6502 - val_loss: 1.4670 - val_acc: 0.6331\n",
            "\n",
            "Epoch 00009: val_acc improved from 0.60819 to 0.63313, saving model to Reuters_best_model.h5\n",
            "Epoch 10/30\n",
            "71/71 [==============================] - 17s 236ms/step - loss: 1.3141 - acc: 0.6574 - val_loss: 1.4148 - val_acc: 0.6496\n",
            "\n",
            "Epoch 00010: val_acc improved from 0.63313 to 0.64960, saving model to Reuters_best_model.h5\n",
            "Epoch 11/30\n",
            "71/71 [==============================] - 17s 235ms/step - loss: 1.2273 - acc: 0.6846 - val_loss: 1.3333 - val_acc: 0.6594\n",
            "\n",
            "Epoch 00011: val_acc improved from 0.64960 to 0.65939, saving model to Reuters_best_model.h5\n",
            "Epoch 12/30\n",
            "71/71 [==============================] - 17s 235ms/step - loss: 1.1542 - acc: 0.7039 - val_loss: 1.3565 - val_acc: 0.6523\n",
            "\n",
            "Epoch 00012: val_acc did not improve from 0.65939\n",
            "Epoch 13/30\n",
            "71/71 [==============================] - 17s 235ms/step - loss: 1.1089 - acc: 0.7143 - val_loss: 1.2755 - val_acc: 0.6701\n",
            "\n",
            "Epoch 00013: val_acc improved from 0.65939 to 0.67008, saving model to Reuters_best_model.h5\n",
            "Epoch 14/30\n",
            "71/71 [==============================] - 17s 236ms/step - loss: 1.0473 - acc: 0.7314 - val_loss: 1.2592 - val_acc: 0.6874\n",
            "\n",
            "Epoch 00014: val_acc improved from 0.67008 to 0.68744, saving model to Reuters_best_model.h5\n",
            "Epoch 15/30\n",
            "71/71 [==============================] - 17s 235ms/step - loss: 1.0104 - acc: 0.7413 - val_loss: 1.2467 - val_acc: 0.6870\n",
            "\n",
            "Epoch 00015: val_acc did not improve from 0.68744\n",
            "Epoch 16/30\n",
            "71/71 [==============================] - 17s 237ms/step - loss: 0.9628 - acc: 0.7595 - val_loss: 1.2019 - val_acc: 0.6968\n",
            "\n",
            "Epoch 00016: val_acc improved from 0.68744 to 0.69679, saving model to Reuters_best_model.h5\n",
            "Epoch 17/30\n",
            "71/71 [==============================] - 17s 234ms/step - loss: 0.9262 - acc: 0.7678 - val_loss: 1.2123 - val_acc: 0.6990\n",
            "\n",
            "Epoch 00017: val_acc improved from 0.69679 to 0.69902, saving model to Reuters_best_model.h5\n",
            "Epoch 18/30\n",
            "71/71 [==============================] - 17s 234ms/step - loss: 0.8866 - acc: 0.7797 - val_loss: 1.2191 - val_acc: 0.6955\n",
            "\n",
            "Epoch 00018: val_acc did not improve from 0.69902\n",
            "Epoch 19/30\n",
            "71/71 [==============================] - 17s 234ms/step - loss: 0.8458 - acc: 0.7902 - val_loss: 1.1793 - val_acc: 0.7106\n",
            "\n",
            "Epoch 00019: val_acc improved from 0.69902 to 0.71060, saving model to Reuters_best_model.h5\n",
            "Epoch 20/30\n",
            "71/71 [==============================] - 17s 233ms/step - loss: 0.8259 - acc: 0.7948 - val_loss: 1.1831 - val_acc: 0.7124\n",
            "\n",
            "Epoch 00020: val_acc improved from 0.71060 to 0.71238, saving model to Reuters_best_model.h5\n",
            "Epoch 21/30\n",
            "71/71 [==============================] - 17s 234ms/step - loss: 0.7983 - acc: 0.7963 - val_loss: 1.2099 - val_acc: 0.7066\n",
            "\n",
            "Epoch 00021: val_acc did not improve from 0.71238\n",
            "Epoch 22/30\n",
            "71/71 [==============================] - 17s 234ms/step - loss: 0.7503 - acc: 0.8144 - val_loss: 1.1936 - val_acc: 0.7102\n",
            "\n",
            "Epoch 00022: val_acc did not improve from 0.71238\n",
            "Epoch 23/30\n",
            "71/71 [==============================] - 17s 235ms/step - loss: 0.7254 - acc: 0.8210 - val_loss: 1.2397 - val_acc: 0.7017\n",
            "\n",
            "Epoch 00023: val_acc did not improve from 0.71238\n",
            "Epoch 00023: early stopping\n"
          ]
        }
      ]
    },
    {
      "cell_type": "code",
      "metadata": {
        "colab": {
          "base_uri": "https://localhost:8080/"
        },
        "id": "LvrXGqL1YQRe",
        "outputId": "18e517f0-5a2f-47f4-e4bc-0570babd5b90"
      },
      "source": [
        "loaded_model = load_model('Reuters_best_model.h5')\n",
        "print(\"\\n 테스트 정확도: %.4f\" % (loaded_model.evaluate(X_test, y_test)[1]))\n",
        "\n",
        "# 모델이 학습하지 않은 데이터인 X_test, y_test를 테스트 데이터로서 \n",
        "# 성능 평가 용도로 model.evaluate()에서도 다시 사용 \n",
        "# => 즉 이번 모델은 검증 데이터=테스트 데이터(데이터가 충분하다면 다르게 사용하자)"
      ],
      "execution_count": 31,
      "outputs": [
        {
          "output_type": "stream",
          "name": "stdout",
          "text": [
            "71/71 [==============================] - 2s 20ms/step - loss: 1.1831 - acc: 0.7124\n",
            "\n",
            " 테스트 정확도: 0.7124\n"
          ]
        }
      ]
    },
    {
      "cell_type": "code",
      "metadata": {
        "colab": {
          "base_uri": "https://localhost:8080/",
          "height": 295
        },
        "id": "-sgZrpaIY126",
        "outputId": "aff52bc1-310e-481e-cd4b-4107579dd891"
      },
      "source": [
        "# Loss 시각화\n",
        "epochs = range(1, len(history.history['acc']) + 1)\n",
        "plt.plot(epochs, history.history['loss'])\n",
        "plt.plot(epochs, history.history['val_loss'])\n",
        "plt.title('model loss')\n",
        "plt.ylabel('loss')\n",
        "plt.xlabel('epoch')\n",
        "plt.legend(['train', 'test'], loc='upper left')\n",
        "plt.show()"
      ],
      "execution_count": 32,
      "outputs": [
        {
          "output_type": "display_data",
          "data": {
            "image/png": "[encoded data removed]",
            "text/plain": [
              "<Figure size 432x288 with 1 Axes>"
            ]
          },
          "metadata": {
            "needs_background": "light"
          }
        }
      ]
    },
    {
      "cell_type": "markdown",
      "metadata": {
        "id": "GYxYtP5ZY-VJ"
      },
      "source": [
        "전체적으로는 검증 데이터의 손실이 줄어드는 경향이 있지만 뒤로 갈수록 점차 검증 데이터의 손실이 증가하려고 하는 경향이 보인다.\n",
        "=> 과적합의 신호"
      ]
    },
    {
      "cell_type": "code",
      "metadata": {
        "id": "Xl6OLdUqZB2d"
      },
      "source": [
        ""
      ],
      "execution_count": null,
      "outputs": []
    }
  ]
}