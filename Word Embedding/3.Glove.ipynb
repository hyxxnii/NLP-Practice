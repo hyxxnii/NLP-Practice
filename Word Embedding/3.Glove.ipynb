{
  "nbformat": 4,
  "nbformat_minor": 0,
  "metadata": {
    "colab": {
      "name": "3. Glove.ipynb",
      "provenance": [],
      "collapsed_sections": [],
      "authorship_tag": "ABX9TyOAMh2KNR9OOy0Djw1oTjzn",
      "include_colab_link": true
    },
    "kernelspec": {
      "name": "python3",
      "display_name": "Python 3"
    },
    "language_info": {
      "name": "python"
    }
  },
  "cells": [
    {
      "cell_type": "markdown",
      "metadata": {
        "id": "view-in-github",
        "colab_type": "text"
      },
      "source": [
        "<a href=\"https://colab.research.google.com/github/hyxxnii/NLP-Practice/blob/master/Word%20Embedding/3.Glove.ipynb\" target=\"_parent\"><img src=\"https://colab.research.google.com/assets/colab-badge.svg\" alt=\"Open In Colab\"/></a>"
      ]
    },
    {
      "cell_type": "markdown",
      "metadata": {
        "id": "MdTo7guM1-Fd"
      },
      "source": [
        "\n",
        "Reference: https://wikidocs.net/22885"
      ]
    },
    {
      "cell_type": "code",
      "metadata": {
        "colab": {
          "base_uri": "https://localhost:8080/"
        },
        "id": "fhpdvC3B2D_P",
        "outputId": "2f175545-b097-4676-bd7b-d065ab4b752f"
      },
      "source": [
        "!pip install glove_python_binary"
      ],
      "execution_count": 3,
      "outputs": [
        {
          "output_type": "stream",
          "text": [
            "Collecting glove_python_binary\n",
            "  Downloading glove_python_binary-0.2.0-cp37-cp37m-manylinux1_x86_64.whl (948 kB)\n",
            "\u001b[?25l\r\u001b[K     |▍                               | 10 kB 18.5 MB/s eta 0:00:01\r\u001b[K     |▊                               | 20 kB 17.0 MB/s eta 0:00:01\r\u001b[K     |█                               | 30 kB 11.3 MB/s eta 0:00:01\r\u001b[K     |█▍                              | 40 kB 9.4 MB/s eta 0:00:01\r\u001b[K     |█▊                              | 51 kB 5.2 MB/s eta 0:00:01\r\u001b[K     |██                              | 61 kB 5.7 MB/s eta 0:00:01\r\u001b[K     |██▍                             | 71 kB 5.7 MB/s eta 0:00:01\r\u001b[K     |██▊                             | 81 kB 6.3 MB/s eta 0:00:01\r\u001b[K     |███                             | 92 kB 4.7 MB/s eta 0:00:01\r\u001b[K     |███▌                            | 102 kB 5.2 MB/s eta 0:00:01\r\u001b[K     |███▉                            | 112 kB 5.2 MB/s eta 0:00:01\r\u001b[K     |████▏                           | 122 kB 5.2 MB/s eta 0:00:01\r\u001b[K     |████▌                           | 133 kB 5.2 MB/s eta 0:00:01\r\u001b[K     |████▉                           | 143 kB 5.2 MB/s eta 0:00:01\r\u001b[K     |█████▏                          | 153 kB 5.2 MB/s eta 0:00:01\r\u001b[K     |█████▌                          | 163 kB 5.2 MB/s eta 0:00:01\r\u001b[K     |█████▉                          | 174 kB 5.2 MB/s eta 0:00:01\r\u001b[K     |██████▏                         | 184 kB 5.2 MB/s eta 0:00:01\r\u001b[K     |██████▋                         | 194 kB 5.2 MB/s eta 0:00:01\r\u001b[K     |███████                         | 204 kB 5.2 MB/s eta 0:00:01\r\u001b[K     |███████▎                        | 215 kB 5.2 MB/s eta 0:00:01\r\u001b[K     |███████▋                        | 225 kB 5.2 MB/s eta 0:00:01\r\u001b[K     |████████                        | 235 kB 5.2 MB/s eta 0:00:01\r\u001b[K     |████████▎                       | 245 kB 5.2 MB/s eta 0:00:01\r\u001b[K     |████████▋                       | 256 kB 5.2 MB/s eta 0:00:01\r\u001b[K     |█████████                       | 266 kB 5.2 MB/s eta 0:00:01\r\u001b[K     |█████████▎                      | 276 kB 5.2 MB/s eta 0:00:01\r\u001b[K     |█████████▊                      | 286 kB 5.2 MB/s eta 0:00:01\r\u001b[K     |██████████                      | 296 kB 5.2 MB/s eta 0:00:01\r\u001b[K     |██████████▍                     | 307 kB 5.2 MB/s eta 0:00:01\r\u001b[K     |██████████▊                     | 317 kB 5.2 MB/s eta 0:00:01\r\u001b[K     |███████████                     | 327 kB 5.2 MB/s eta 0:00:01\r\u001b[K     |███████████▍                    | 337 kB 5.2 MB/s eta 0:00:01\r\u001b[K     |███████████▊                    | 348 kB 5.2 MB/s eta 0:00:01\r\u001b[K     |████████████                    | 358 kB 5.2 MB/s eta 0:00:01\r\u001b[K     |████████████▍                   | 368 kB 5.2 MB/s eta 0:00:01\r\u001b[K     |████████████▊                   | 378 kB 5.2 MB/s eta 0:00:01\r\u001b[K     |█████████████▏                  | 389 kB 5.2 MB/s eta 0:00:01\r\u001b[K     |█████████████▌                  | 399 kB 5.2 MB/s eta 0:00:01\r\u001b[K     |█████████████▉                  | 409 kB 5.2 MB/s eta 0:00:01\r\u001b[K     |██████████████▏                 | 419 kB 5.2 MB/s eta 0:00:01\r\u001b[K     |██████████████▌                 | 430 kB 5.2 MB/s eta 0:00:01\r\u001b[K     |██████████████▉                 | 440 kB 5.2 MB/s eta 0:00:01\r\u001b[K     |███████████████▏                | 450 kB 5.2 MB/s eta 0:00:01\r\u001b[K     |███████████████▌                | 460 kB 5.2 MB/s eta 0:00:01\r\u001b[K     |███████████████▉                | 471 kB 5.2 MB/s eta 0:00:01\r\u001b[K     |████████████████▎               | 481 kB 5.2 MB/s eta 0:00:01\r\u001b[K     |████████████████▋               | 491 kB 5.2 MB/s eta 0:00:01\r\u001b[K     |█████████████████               | 501 kB 5.2 MB/s eta 0:00:01\r\u001b[K     |█████████████████▎              | 512 kB 5.2 MB/s eta 0:00:01\r\u001b[K     |█████████████████▋              | 522 kB 5.2 MB/s eta 0:00:01\r\u001b[K     |██████████████████              | 532 kB 5.2 MB/s eta 0:00:01\r\u001b[K     |██████████████████▎             | 542 kB 5.2 MB/s eta 0:00:01\r\u001b[K     |██████████████████▋             | 552 kB 5.2 MB/s eta 0:00:01\r\u001b[K     |███████████████████             | 563 kB 5.2 MB/s eta 0:00:01\r\u001b[K     |███████████████████▍            | 573 kB 5.2 MB/s eta 0:00:01\r\u001b[K     |███████████████████▊            | 583 kB 5.2 MB/s eta 0:00:01\r\u001b[K     |████████████████████            | 593 kB 5.2 MB/s eta 0:00:01\r\u001b[K     |████████████████████▍           | 604 kB 5.2 MB/s eta 0:00:01\r\u001b[K     |████████████████████▊           | 614 kB 5.2 MB/s eta 0:00:01\r\u001b[K     |█████████████████████           | 624 kB 5.2 MB/s eta 0:00:01\r\u001b[K     |█████████████████████▍          | 634 kB 5.2 MB/s eta 0:00:01\r\u001b[K     |█████████████████████▊          | 645 kB 5.2 MB/s eta 0:00:01\r\u001b[K     |██████████████████████          | 655 kB 5.2 MB/s eta 0:00:01\r\u001b[K     |██████████████████████▌         | 665 kB 5.2 MB/s eta 0:00:01\r\u001b[K     |██████████████████████▉         | 675 kB 5.2 MB/s eta 0:00:01\r\u001b[K     |███████████████████████▏        | 686 kB 5.2 MB/s eta 0:00:01\r\u001b[K     |███████████████████████▌        | 696 kB 5.2 MB/s eta 0:00:01\r\u001b[K     |███████████████████████▉        | 706 kB 5.2 MB/s eta 0:00:01\r\u001b[K     |████████████████████████▏       | 716 kB 5.2 MB/s eta 0:00:01\r\u001b[K     |████████████████████████▌       | 727 kB 5.2 MB/s eta 0:00:01\r\u001b[K     |████████████████████████▉       | 737 kB 5.2 MB/s eta 0:00:01\r\u001b[K     |█████████████████████████▏      | 747 kB 5.2 MB/s eta 0:00:01\r\u001b[K     |█████████████████████████▌      | 757 kB 5.2 MB/s eta 0:00:01\r\u001b[K     |██████████████████████████      | 768 kB 5.2 MB/s eta 0:00:01\r\u001b[K     |██████████████████████████▎     | 778 kB 5.2 MB/s eta 0:00:01\r\u001b[K     |██████████████████████████▋     | 788 kB 5.2 MB/s eta 0:00:01\r\u001b[K     |███████████████████████████     | 798 kB 5.2 MB/s eta 0:00:01\r\u001b[K     |███████████████████████████▎    | 808 kB 5.2 MB/s eta 0:00:01\r\u001b[K     |███████████████████████████▋    | 819 kB 5.2 MB/s eta 0:00:01\r\u001b[K     |████████████████████████████    | 829 kB 5.2 MB/s eta 0:00:01\r\u001b[K     |████████████████████████████▎   | 839 kB 5.2 MB/s eta 0:00:01\r\u001b[K     |████████████████████████████▋   | 849 kB 5.2 MB/s eta 0:00:01\r\u001b[K     |█████████████████████████████   | 860 kB 5.2 MB/s eta 0:00:01\r\u001b[K     |█████████████████████████████▍  | 870 kB 5.2 MB/s eta 0:00:01\r\u001b[K     |█████████████████████████████▊  | 880 kB 5.2 MB/s eta 0:00:01\r\u001b[K     |██████████████████████████████  | 890 kB 5.2 MB/s eta 0:00:01\r\u001b[K     |██████████████████████████████▍ | 901 kB 5.2 MB/s eta 0:00:01\r\u001b[K     |██████████████████████████████▊ | 911 kB 5.2 MB/s eta 0:00:01\r\u001b[K     |███████████████████████████████ | 921 kB 5.2 MB/s eta 0:00:01\r\u001b[K     |███████████████████████████████▍| 931 kB 5.2 MB/s eta 0:00:01\r\u001b[K     |███████████████████████████████▊| 942 kB 5.2 MB/s eta 0:00:01\r\u001b[K     |████████████████████████████████| 948 kB 5.2 MB/s \n",
            "\u001b[?25hRequirement already satisfied: numpy in /usr/local/lib/python3.7/dist-packages (from glove_python_binary) (1.19.5)\n",
            "Requirement already satisfied: scipy in /usr/local/lib/python3.7/dist-packages (from glove_python_binary) (1.4.1)\n",
            "Installing collected packages: glove-python-binary\n",
            "Successfully installed glove-python-binary-0.2.0\n"
          ],
          "name": "stdout"
        }
      ]
    },
    {
      "cell_type": "code",
      "metadata": {
        "colab": {
          "base_uri": "https://localhost:8080/"
        },
        "id": "B1EO2J2o2m4I",
        "outputId": "939c3915-502e-484e-90b6-359adbc37a7d"
      },
      "source": [
        "import urllib.request\n",
        "import zipfile\n",
        "from lxml import etree\n",
        "import re\n",
        "from nltk.tokenize import word_tokenize, sent_tokenize\n",
        "\n",
        "import nltk\n",
        "nltk.download('punkt')\n"
      ],
      "execution_count": 6,
      "outputs": [
        {
          "output_type": "stream",
          "text": [
            "[nltk_data] Downloading package punkt to /root/nltk_data...\n",
            "[nltk_data]   Unzipping tokenizers/punkt.zip.\n"
          ],
          "name": "stdout"
        },
        {
          "output_type": "execute_result",
          "data": {
            "text/plain": [
              "True"
            ]
          },
          "metadata": {},
          "execution_count": 6
        }
      ]
    },
    {
      "cell_type": "code",
      "metadata": {
        "colab": {
          "base_uri": "https://localhost:8080/"
        },
        "id": "RF6lp7ug2iiX",
        "outputId": "606895ac-420e-4808-d11e-826f66ad607a"
      },
      "source": [
        " # 영어로 된 코퍼스 데이터 다운로드 (Word2Vec 실습 데이터와 동일)\n",
        "urllib.request.urlretrieve(\"https://raw.githubusercontent.com/GaoleMeng/RNN-and-FFNN-textClassification/master/ted_en-20160408.xml\", filename=\"ted_en-20160408.xml\")"
      ],
      "execution_count": 7,
      "outputs": [
        {
          "output_type": "execute_result",
          "data": {
            "text/plain": [
              "('ted_en-20160408.xml', <http.client.HTTPMessage at 0x7fa3fe32f750>)"
            ]
          },
          "metadata": {},
          "execution_count": 7
        }
      ]
    },
    {
      "cell_type": "code",
      "metadata": {
        "id": "tZIqnskQ2igQ"
      },
      "source": [
        "# 데이터 전처리\n",
        "targetXML=open('ted_en-20160408.xml', 'r', encoding='UTF8')\n",
        "target_text = etree.parse(targetXML)\n",
        "\n",
        "# xml 파일로부터 <content>와 </content> 사이의 내용만 가져온다.\n",
        "parse_text = '\\n'.join(target_text.xpath('//content/text()'))\n",
        "\n",
        "# 정규 표현식의 sub 모듈을 통해 content 중간에 등장하는 (Audio), (Laughter) 등의 배경음 부분을 제거.\n",
        "# 해당 코드는 괄호로 구성된 내용을 제거.\n",
        "content_text = re.sub(r'\\([^)]*\\)', '', parse_text)\n",
        "\n",
        "# 입력 코퍼스에 대해서 NLTK를 이용하여 문장 토큰화를 수행.\n",
        "sent_text = sent_tokenize(content_text)\n",
        "\n",
        "# 각 문장에 대해서 구두점을 제거하고, 대문자를 소문자로 변환.\n",
        "normalized_text = []\n",
        "for string in sent_text:\n",
        "     tokens = re.sub(r\"[^a-z0-9]+\", \" \", string.lower())\n",
        "     normalized_text.append(tokens)\n",
        "\n",
        "# 각 문장에 대해서 NLTK를 이용하여 단어 토큰화를 수행.\n",
        "result = [word_tokenize(sentence) for sentence in normalized_text]"
      ],
      "execution_count": 8,
      "outputs": []
    },
    {
      "cell_type": "code",
      "metadata": {
        "colab": {
          "base_uri": "https://localhost:8080/"
        },
        "id": "6RjscwvK2id2",
        "outputId": "71af0c21-83f1-4fcb-9dff-dac22e8c37a4"
      },
      "source": [
        "print('총 샘플의 개수 : {}'.format(len(result)))"
      ],
      "execution_count": 9,
      "outputs": [
        {
          "output_type": "stream",
          "text": [
            "총 샘플의 개수 : 273424\n"
          ],
          "name": "stdout"
        }
      ]
    },
    {
      "cell_type": "code",
      "metadata": {
        "colab": {
          "base_uri": "https://localhost:8080/"
        },
        "id": "ZOYtKht12uhc",
        "outputId": "0f1f9890-9298-4c95-8e15-db4f855ce31b"
      },
      "source": [
        "# 샘플 3개만 출력\n",
        "for line in result[:3]:\n",
        "    print(line)"
      ],
      "execution_count": 10,
      "outputs": [
        {
          "output_type": "stream",
          "text": [
            "['here', 'are', 'two', 'reasons', 'companies', 'fail', 'they', 'only', 'do', 'more', 'of', 'the', 'same', 'or', 'they', 'only', 'do', 'what', 's', 'new']\n",
            "['to', 'me', 'the', 'real', 'real', 'solution', 'to', 'quality', 'growth', 'is', 'figuring', 'out', 'the', 'balance', 'between', 'two', 'activities', 'exploration', 'and', 'exploitation']\n",
            "['both', 'are', 'necessary', 'but', 'it', 'can', 'be', 'too', 'much', 'of', 'a', 'good', 'thing']\n"
          ],
          "name": "stdout"
        }
      ]
    },
    {
      "cell_type": "markdown",
      "metadata": {
        "id": "jdgFsL_429J3"
      },
      "source": [
        "## Glove 훈련시키기"
      ]
    },
    {
      "cell_type": "code",
      "metadata": {
        "colab": {
          "base_uri": "https://localhost:8080/"
        },
        "id": "wwXSKVbs13tm",
        "outputId": "dbd79d6a-0e2e-4a6e-a12e-2c7318dd4141"
      },
      "source": [
        "from glove import Corpus, Glove\n",
        "\n",
        "corpus = Corpus() \n",
        "corpus.fit(result, window=5)\n",
        "# 훈련 데이터로부터 GloVe에서 사용할 동시 등장 행렬 생성\n",
        "\n",
        "glove = Glove(no_components=100, learning_rate=0.05)\n",
        "glove.fit(corpus.matrix, epochs=20, no_threads=4, verbose=True)\n",
        "glove.add_dictionary(corpus.dictionary)\n",
        "# 학습에 이용할 쓰레드의 개수는 4로 설정, 에포크는 20."
      ],
      "execution_count": 11,
      "outputs": [
        {
          "output_type": "stream",
          "text": [
            "Performing 20 training epochs with 4 threads\n",
            "Epoch 0\n",
            "Epoch 1\n",
            "Epoch 2\n",
            "Epoch 3\n",
            "Epoch 4\n",
            "Epoch 5\n",
            "Epoch 6\n",
            "Epoch 7\n",
            "Epoch 8\n",
            "Epoch 9\n",
            "Epoch 10\n",
            "Epoch 11\n",
            "Epoch 12\n",
            "Epoch 13\n",
            "Epoch 14\n",
            "Epoch 15\n",
            "Epoch 16\n",
            "Epoch 17\n",
            "Epoch 18\n",
            "Epoch 19\n"
          ],
          "name": "stdout"
        }
      ]
    },
    {
      "cell_type": "code",
      "metadata": {
        "colab": {
          "base_uri": "https://localhost:8080/"
        },
        "id": "pk0SOYGd2Biw",
        "outputId": "f8ea8bf8-8467-45f0-9f9b-b2d70cdbfdd2"
      },
      "source": [
        "model_result1 = glove.most_similar(\"man\")\n",
        "print(model_result1)"
      ],
      "execution_count": 12,
      "outputs": [
        {
          "output_type": "stream",
          "text": [
            "[('woman', 0.9527764853972338), ('guy', 0.8862156858725542), ('girl', 0.870228159150757), ('kid', 0.8448864714570749)]\n"
          ],
          "name": "stdout"
        }
      ]
    },
    {
      "cell_type": "code",
      "metadata": {
        "colab": {
          "base_uri": "https://localhost:8080/"
        },
        "id": "YB-JySSy3AVK",
        "outputId": "a9b6898b-1d27-477d-9cca-f45caf9e48e7"
      },
      "source": [
        "model_result2 = glove.most_similar(\"boy\")\n",
        "print(model_result2)"
      ],
      "execution_count": 13,
      "outputs": [
        {
          "output_type": "stream",
          "text": [
            "[('girl', 0.9394001823862257), ('kid', 0.8489175501253511), ('woman', 0.8479645414344201), ('man', 0.8286771410203274)]\n"
          ],
          "name": "stdout"
        }
      ]
    },
    {
      "cell_type": "code",
      "metadata": {
        "id": "vFhvkruc3CD9"
      },
      "source": [
        "model_result3 = glove.most_similar(\"university\")\n",
        "print(model_result3)"
      ],
      "execution_count": null,
      "outputs": []
    }
  ]
}