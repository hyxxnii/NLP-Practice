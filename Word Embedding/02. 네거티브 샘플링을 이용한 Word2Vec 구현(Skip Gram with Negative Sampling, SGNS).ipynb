{
  "nbformat": 4,
  "nbformat_minor": 0,
  "metadata": {
    "colab": {
      "name": "2. 네거티브 샘플링을 이용한 Word2Vec 구현(Skip-Gram with Negative Sampling, SGNS).ipynb",
      "provenance": [],
      "collapsed_sections": [],
      "authorship_tag": "ABX9TyM5cWhyf7YlNSbaSF6/wFI8",
      "include_colab_link": true
    },
    "kernelspec": {
      "name": "python3",
      "display_name": "Python 3"
    },
    "language_info": {
      "name": "python"
    }
  },
  "cells": [
    {
      "cell_type": "markdown",
      "metadata": {
        "id": "view-in-github",
        "colab_type": "text"
      },
      "source": [
        "<a href=\"https://colab.research.google.com/github/hyxxnii/NLP-Practice/blob/master/Word%20Embedding/02.%20%EB%84%A4%EA%B1%B0%ED%8B%B0%EB%B8%8C%20%EC%83%98%ED%94%8C%EB%A7%81%EC%9D%84%20%EC%9D%B4%EC%9A%A9%ED%95%9C%20Word2Vec%20%EA%B5%AC%ED%98%84(Skip%20Gram%20with%20Negative%20Sampling%2C%20SGNS).ipynb\" target=\"_parent\"><img src=\"https://colab.research.google.com/assets/colab-badge.svg\" alt=\"Open In Colab\"/></a>"
      ]
    },
    {
      "cell_type": "markdown",
      "metadata": {
        "id": "FTu17rM8rcnw"
      },
      "source": [
        "네거티브 샘플링(Negative Sampling)을 사용하는 Word2Vec을 직접 케라스(Keras)를 통해 구현해보자\n",
        "\n",
        "Reference: https://wikidocs.net/69141"
      ]
    },
    {
      "cell_type": "markdown",
      "metadata": {
        "id": "OkRqSOcOrixJ"
      },
      "source": [
        "sklearn에서 제공하는 20뉴스그룹 dataset"
      ]
    },
    {
      "cell_type": "markdown",
      "metadata": {
        "id": "NiETM_MjwMhE"
      },
      "source": [
        "## 20뉴스그룹 dataset 전처리"
      ]
    },
    {
      "cell_type": "code",
      "metadata": {
        "id": "raT_BYGLrTJE"
      },
      "source": [
        "import pandas as pd\n",
        "import numpy as np\n",
        "import nltk\n",
        "from nltk.corpus import stopwords\n",
        "from sklearn.datasets import fetch_20newsgroups\n",
        "from tensorflow.keras.preprocessing.text import Tokenizer"
      ],
      "execution_count": 1,
      "outputs": []
    },
    {
      "cell_type": "markdown",
      "metadata": {
        "id": "jvp0c2nLrpsW"
      },
      "source": [
        "이번 실습에서는 하나의 샘플에 최소 단어 2개가 있어야 한다. (중심단어, 주변단어의 관계 성립을 위해)\n",
        "\n",
        "따라서 전처리 과정을 통해 이를 만족하지 않는 샘플을 제거할 예정이다."
      ]
    },
    {
      "cell_type": "code",
      "metadata": {
        "colab": {
          "base_uri": "https://localhost:8080/"
        },
        "id": "fGeHI3LcroIQ",
        "outputId": "6c86ff0a-efb9-466e-b03f-9b740161ca96"
      },
      "source": [
        "dataset = fetch_20newsgroups(shuffle=True, random_state=1, remove=('headers', 'footers', 'quotes'))\n",
        "documents = dataset.data\n",
        "print('총 샘플 수 :', len(documents))"
      ],
      "execution_count": 2,
      "outputs": [
        {
          "output_type": "stream",
          "text": [
            "Downloading 20news dataset. This may take a few minutes.\n",
            "Downloading dataset from https://ndownloader.figshare.com/files/5975967 (14 MB)\n"
          ],
          "name": "stderr"
        },
        {
          "output_type": "stream",
          "text": [
            "총 샘플 수 : 11314\n"
          ],
          "name": "stdout"
        }
      ]
    },
    {
      "cell_type": "code",
      "metadata": {
        "colab": {
          "base_uri": "https://localhost:8080/",
          "height": 204
        },
        "id": "e2scsbg8r4ud",
        "outputId": "5fdfa4cf-1d01-453b-c9ba-a095f1bb6104"
      },
      "source": [
        "news_df = pd.DataFrame({'document':documents})\n",
        "\n",
        "# 특수 문자 제거\n",
        "news_df['clean_doc'] = news_df['document'].str.replace(\"[^a-zA-Z]\", \" \")\n",
        "# 길이가 3 이하인 단어는 제거 (길이가 짧은 단어 제거)\n",
        "news_df['clean_doc'] = news_df['clean_doc'].apply(lambda x: ' '.join([w for w in x.split() if len(w)>3]))\n",
        "# 전체 단어에 대한 소문자 변환\n",
        "news_df['clean_doc'] = news_df['clean_doc'].apply(lambda x: x.lower())\n",
        "\n",
        "news_df.head()"
      ],
      "execution_count": 4,
      "outputs": [
        {
          "output_type": "execute_result",
          "data": {
            "text/html": [
              "<div>\n",
              "<style scoped>\n",
              "    .dataframe tbody tr th:only-of-type {\n",
              "        vertical-align: middle;\n",
              "    }\n",
              "\n",
              "    .dataframe tbody tr th {\n",
              "        vertical-align: top;\n",
              "    }\n",
              "\n",
              "    .dataframe thead th {\n",
              "        text-align: right;\n",
              "    }\n",
              "</style>\n",
              "<table border=\"1\" class=\"dataframe\">\n",
              "  <thead>\n",
              "    <tr style=\"text-align: right;\">\n",
              "      <th></th>\n",
              "      <th>document</th>\n",
              "      <th>clean_doc</th>\n",
              "    </tr>\n",
              "  </thead>\n",
              "  <tbody>\n",
              "    <tr>\n",
              "      <th>0</th>\n",
              "      <td>Well i'm not sure about the story nad it did s...</td>\n",
              "      <td>well sure about story seem biased what disagre...</td>\n",
              "    </tr>\n",
              "    <tr>\n",
              "      <th>1</th>\n",
              "      <td>\\n\\n\\n\\n\\n\\n\\nYeah, do you expect people to re...</td>\n",
              "      <td>yeah expect people read actually accept hard a...</td>\n",
              "    </tr>\n",
              "    <tr>\n",
              "      <th>2</th>\n",
              "      <td>Although I realize that principle is not one o...</td>\n",
              "      <td>although realize that principle your strongest...</td>\n",
              "    </tr>\n",
              "    <tr>\n",
              "      <th>3</th>\n",
              "      <td>Notwithstanding all the legitimate fuss about ...</td>\n",
              "      <td>notwithstanding legitimate fuss about this pro...</td>\n",
              "    </tr>\n",
              "    <tr>\n",
              "      <th>4</th>\n",
              "      <td>Well, I will have to change the scoring on my ...</td>\n",
              "      <td>well will have change scoring playoff pool unf...</td>\n",
              "    </tr>\n",
              "  </tbody>\n",
              "</table>\n",
              "</div>"
            ],
            "text/plain": [
              "                                            document                                          clean_doc\n",
              "0  Well i'm not sure about the story nad it did s...  well sure about story seem biased what disagre...\n",
              "1  \\n\\n\\n\\n\\n\\n\\nYeah, do you expect people to re...  yeah expect people read actually accept hard a...\n",
              "2  Although I realize that principle is not one o...  although realize that principle your strongest...\n",
              "3  Notwithstanding all the legitimate fuss about ...  notwithstanding legitimate fuss about this pro...\n",
              "4  Well, I will have to change the scoring on my ...  well will have change scoring playoff pool unf..."
            ]
          },
          "metadata": {},
          "execution_count": 4
        }
      ]
    },
    {
      "cell_type": "code",
      "metadata": {
        "colab": {
          "base_uri": "https://localhost:8080/"
        },
        "id": "nV5h5B9xsL0G",
        "outputId": "cca1dda9-3e8c-4b4c-ac2c-5b0356152629"
      },
      "source": [
        "news_df.isnull().values.any()"
      ],
      "execution_count": 5,
      "outputs": [
        {
          "output_type": "execute_result",
          "data": {
            "text/plain": [
              "False"
            ]
          },
          "metadata": {},
          "execution_count": 5
        }
      ]
    },
    {
      "cell_type": "code",
      "metadata": {
        "colab": {
          "base_uri": "https://localhost:8080/"
        },
        "id": "tIdG2KehsSIR",
        "outputId": "26430acc-7221-4f58-aa6f-94c6867f6660"
      },
      "source": [
        "# 빈 값(empty)을 Null 값으로 변환 후 다시 Null 값 확인\n",
        "news_df.replace(\"\", float(\"NaN\"), inplace=True)\n",
        "news_df.isnull().values.any()"
      ],
      "execution_count": 6,
      "outputs": [
        {
          "output_type": "execute_result",
          "data": {
            "text/plain": [
              "True"
            ]
          },
          "metadata": {},
          "execution_count": 6
        }
      ]
    },
    {
      "cell_type": "code",
      "metadata": {
        "colab": {
          "base_uri": "https://localhost:8080/"
        },
        "id": "DISbaaySsbb1",
        "outputId": "1b04c0fd-2aa9-4315-8fdc-e04a1fe0bd61"
      },
      "source": [
        "news_df.dropna(inplace=True)\n",
        "print('총 샘플 수 :',len(news_df))"
      ],
      "execution_count": 7,
      "outputs": [
        {
          "output_type": "stream",
          "text": [
            "총 샘플 수 : 10995\n"
          ],
          "name": "stdout"
        }
      ]
    },
    {
      "cell_type": "code",
      "metadata": {
        "colab": {
          "base_uri": "https://localhost:8080/"
        },
        "id": "9zLdTUI0sfwF",
        "outputId": "ea3157c4-2893-48c2-e82b-069706594a76"
      },
      "source": [
        "# NLTK에서 정의한 불용어 리스트를 사용하여 불용어 제거\n",
        "nltk.download('stopwords')\n",
        "stop_words = stopwords.words('english')\n",
        "tokenized_doc = news_df['clean_doc'].apply(lambda x: x.split())\n",
        "tokenized_doc = tokenized_doc.apply(lambda x: [item for item in x if item not in stop_words])\n",
        "tokenized_doc = tokenized_doc.to_list()"
      ],
      "execution_count": 9,
      "outputs": [
        {
          "output_type": "stream",
          "text": [
            "[nltk_data] Downloading package stopwords to /root/nltk_data...\n",
            "[nltk_data]   Unzipping corpora/stopwords.zip.\n"
          ],
          "name": "stdout"
        }
      ]
    },
    {
      "cell_type": "code",
      "metadata": {
        "colab": {
          "base_uri": "https://localhost:8080/"
        },
        "id": "KdzoeqvMt5_C",
        "outputId": "fcdc45ef-df9b-4170-cac6-a7097213e61c"
      },
      "source": [
        "# 단어가 1개 이하인 샘플의 인덱스를 찾아서 저장하고, 해당 샘플들은 제거.\n",
        "drop_train = [index for index, sentence in enumerate(tokenized_doc) if len(sentence) <= 1]\n",
        "tokenized_doc = np.delete(tokenized_doc, drop_train, axis=0)\n",
        "print('총 샘플 수 :',len(tokenized_doc))"
      ],
      "execution_count": 10,
      "outputs": [
        {
          "output_type": "stream",
          "text": [
            "총 샘플 수 : 10940\n"
          ],
          "name": "stdout"
        },
        {
          "output_type": "stream",
          "text": [
            "/usr/local/lib/python3.7/dist-packages/numpy/core/_asarray.py:83: VisibleDeprecationWarning: Creating an ndarray from ragged nested sequences (which is a list-or-tuple of lists-or-tuples-or ndarrays with different lengths or shapes) is deprecated. If you meant to do this, you must specify 'dtype=object' when creating the ndarray\n",
            "  return array(a, dtype, copy=False, order=order)\n"
          ],
          "name": "stderr"
        }
      ]
    },
    {
      "cell_type": "code",
      "metadata": {
        "id": "guvKW0-NuOgT"
      },
      "source": [
        "# 단어 집합 생성, 정수인코딩\n",
        "tokenizer = Tokenizer()\n",
        "tokenizer.fit_on_texts(tokenized_doc)\n",
        "\n",
        "word2idx = tokenizer.word_index\n",
        "idx2word = {v:k for k, v in word2idx.items()}\n",
        "encoded = tokenizer.texts_to_sequences(tokenized_doc)"
      ],
      "execution_count": 17,
      "outputs": []
    },
    {
      "cell_type": "code",
      "metadata": {
        "colab": {
          "base_uri": "https://localhost:8080/"
        },
        "id": "YKB_7G22ud_P",
        "outputId": "28c4bc58-c391-46f2-9c78-be3de728968b"
      },
      "source": [
        "print(encoded[:2])"
      ],
      "execution_count": 18,
      "outputs": [
        {
          "output_type": "stream",
          "text": [
            "[[9, 59, 603, 207, 3278, 1495, 474, 702, 9470, 13686, 5533, 15227, 702, 442, 702, 70, 1148, 1095, 1036, 20294, 984, 705, 4294, 702, 217, 207, 1979, 15228, 13686, 4865, 4520, 87, 1530, 6, 52, 149, 581, 661, 4406, 4988, 4866, 1920, 755, 10668, 1102, 7837, 442, 957, 10669, 634, 51, 228, 2669, 4989, 178, 66, 222, 4521, 6066, 68, 4295], [1026, 532, 2, 60, 98, 582, 107, 800, 23, 79, 4522, 333, 7838, 864, 421, 3825, 458, 6488, 458, 2700, 4730, 333, 23, 9, 4731, 7262, 186, 310, 146, 170, 642, 1260, 107, 33568, 13, 985, 33569, 33570, 9471, 11491]]\n"
          ],
          "name": "stdout"
        }
      ]
    },
    {
      "cell_type": "code",
      "metadata": {
        "colab": {
          "base_uri": "https://localhost:8080/"
        },
        "id": "_MDQoWQrv9bJ",
        "outputId": "31d2e339-fc8e-4b1b-c5b9-5121d4f604be"
      },
      "source": [
        "vocab_size = len(word2idx) + 1 \n",
        "print('단어 집합의 크기 :', vocab_size)"
      ],
      "execution_count": 32,
      "outputs": [
        {
          "output_type": "stream",
          "text": [
            "단어 집합의 크기 : 64277\n"
          ],
          "name": "stdout"
        }
      ]
    },
    {
      "cell_type": "markdown",
      "metadata": {
        "id": "VcH5pEH9up_L"
      },
      "source": [
        "## 네거티브 샘플링을 통한 데이터셋 구성하기"
      ]
    },
    {
      "cell_type": "markdown",
      "metadata": {
        "id": "w-83gEnGuwY2"
      },
      "source": [
        "- 네거티브 샘플링을 위해서 케라스에서 제공하는 전처리 도구인 skipgrams를 사용\n",
        "- 시간이 꽤 걸리는 작업이므로 우선 확인을 위해 상위 10개 뉴스그룹 샘플에 대해서만 수행해보자"
      ]
    },
    {
      "cell_type": "code",
      "metadata": {
        "id": "8zwhvJa6unyM"
      },
      "source": [
        "from tensorflow.keras.preprocessing.sequence import skipgrams\n",
        "\n",
        "# 네거티브 샘플링\n",
        "skip_grams = [skipgrams(sample, vocabulary_size=vocab_size, window_size=10) for sample in encoded[:10]]"
      ],
      "execution_count": 20,
      "outputs": []
    },
    {
      "cell_type": "code",
      "metadata": {
        "colab": {
          "base_uri": "https://localhost:8080/"
        },
        "id": "nULYetzSu1Uw",
        "outputId": "7f64b07b-9f00-43d4-9d47-1db4d4065c17"
      },
      "source": [
        "# 첫번째 샘플인 skip_grams[0] 내 skipgrams로 형성된 데이터셋 확인\n",
        "pairs, labels = skip_grams[0][0], skip_grams[0][1]\n",
        "for i in range(5):\n",
        "    print(\"({:s} ({:d}), {:s} ({:d})) -> {:d}\".format(\n",
        "          idx2word[pairs[i][0]], pairs[i][0], \n",
        "          idx2word[pairs[i][1]], pairs[i][1], \n",
        "          labels[i]))"
      ],
      "execution_count": 21,
      "outputs": [
        {
          "output_type": "stream",
          "text": [
            "(israeli (442), squared (23414)) -> 0\n",
            "(israeli (442), koutd (12927)) -> 0\n",
            "(away (178), received (634)) -> 1\n",
            "(received (634), neurobehav (45480)) -> 0\n",
            "(ignore (1979), qshzq (60033)) -> 0\n"
          ],
          "name": "stdout"
        }
      ]
    },
    {
      "cell_type": "markdown",
      "metadata": {
        "id": "o7vS3JWAvS7F"
      },
      "source": [
        "윈도우 크기 내에서 중심 단어, 주변 단어의 관계를 가지는 경우에는 1의 레이블을 갖도록 하고, 그렇지 않은 경우는 0의 레이블을 가지도록 하여 데이터셋을 구성한다."
      ]
    },
    {
      "cell_type": "code",
      "metadata": {
        "colab": {
          "base_uri": "https://localhost:8080/"
        },
        "id": "Qio5a4YmvNQE",
        "outputId": "a2503a45-f368-4690-88a4-2e5ef6e5c193"
      },
      "source": [
        "print('전체 샘플 수 :',len(skip_grams))\n",
        "\n",
        "# 10개의 뉴스그룹 샘플 각각은 수많은 중심 단어, 주변 단어의 쌍으로 된 샘플들을 갖고 있다"
      ],
      "execution_count": 28,
      "outputs": [
        {
          "output_type": "stream",
          "text": [
            "전체 샘플 수 : 10\n"
          ],
          "name": "stdout"
        }
      ]
    },
    {
      "cell_type": "code",
      "metadata": {
        "colab": {
          "base_uri": "https://localhost:8080/"
        },
        "id": "mOp6bKqJubzd",
        "outputId": "3e18ad93-46b0-4238-8b29-099a0f7bce6a"
      },
      "source": [
        "# 첫번째 뉴스그룹 샘플(10개)에 대해서 생긴 pairs와 labels의 개수\n",
        "print(len(pairs))\n",
        "print(len(labels))"
      ],
      "execution_count": 33,
      "outputs": [
        {
          "output_type": "stream",
          "text": [
            "2220\n",
            "2220\n"
          ],
          "name": "stdout"
        }
      ]
    },
    {
      "cell_type": "markdown",
      "metadata": {
        "id": "1jrshm3DwBuE"
      },
      "source": [
        "이 작업을 모든 뉴스그룹 샘플에 대해서 수행해보자."
      ]
    },
    {
      "cell_type": "code",
      "metadata": {
        "id": "nmS5fyfuvX0d"
      },
      "source": [
        "skip_grams = [skipgrams(sample, vocabulary_size=vocab_size, window_size=10) for sample in encoded]"
      ],
      "execution_count": 34,
      "outputs": []
    },
    {
      "cell_type": "code",
      "metadata": {
        "id": "-7r0YRlfwFg0"
      },
      "source": [
        ""
      ],
      "execution_count": null,
      "outputs": []
    },
    {
      "cell_type": "markdown",
      "metadata": {
        "id": "wuaPK0oRwJuo"
      },
      "source": [
        "## Skip-Gram with Negative Sampling(SGNS) 구현하기"
      ]
    },
    {
      "cell_type": "markdown",
      "metadata": {
        "id": "C64i2VLwwSuD"
      },
      "source": [
        "Skip-gram을 직접 구현해보자"
      ]
    },
    {
      "cell_type": "code",
      "metadata": {
        "id": "MholY7_mwKEt"
      },
      "source": [
        "from tensorflow.keras.models import Sequential, Model\n",
        "from tensorflow.keras.layers import Embedding, Reshape, Activation, Input\n",
        "from tensorflow.keras.layers import Dot\n",
        "from tensorflow.keras.utils import plot_model\n",
        "from IPython.display import SVG\n"
      ],
      "execution_count": 35,
      "outputs": []
    },
    {
      "cell_type": "code",
      "metadata": {
        "id": "VOtzTtMJwQbd"
      },
      "source": [
        "# 임베딩 벡터의 차원은 100으로 (하이퍼파라미터)\n",
        "embed_size = 100"
      ],
      "execution_count": 36,
      "outputs": []
    },
    {
      "cell_type": "code",
      "metadata": {
        "id": "S6chkDA_wY8I"
      },
      "source": [
        "# 모델 설계 -> 두 개의 임베딩 테이블을 생성\n",
        "\n",
        "# 중심 단어를 위한 임베딩 테이블\n",
        "w_inputs = Input(shape=(1, ), dtype='int32')\n",
        "word_embedding = Embedding(vocab_size, embed_size)(w_inputs)\n",
        "\n",
        "# 주변 단어를 위한 임베딩 테이블\n",
        "c_inputs = Input(shape=(1, ), dtype='int32')\n",
        "context_embedding  = Embedding(vocab_size, embed_size)(c_inputs)"
      ],
      "execution_count": 37,
      "outputs": []
    },
    {
      "cell_type": "markdown",
      "metadata": {
        "id": "UGDsx7DRwpql"
      },
      "source": [
        "각 단어는 임베딩 테이블을 거쳐서 내적을 수행하고, 내적의 결과는 1 또는 0을 예측하기 위해서 시그모이드 함수를 활성화 함수로 거쳐 최종 예측값을 얻는다."
      ]
    },
    {
      "cell_type": "code",
      "metadata": {
        "id": "yuFAgdU-wl7g"
      },
      "source": [
        "dot_product = Dot(axes=2)([word_embedding, context_embedding])\n",
        "dot_product = Reshape((1,), input_shape=(1, 1))(dot_product)\n",
        "output = Activation('sigmoid')(dot_product)"
      ],
      "execution_count": 38,
      "outputs": []
    },
    {
      "cell_type": "code",
      "metadata": {
        "colab": {
          "base_uri": "https://localhost:8080/",
          "height": 924
        },
        "id": "B8rccZekwxTM",
        "outputId": "fbd5a002-de99-4aee-87b3-935956961f49"
      },
      "source": [
        "model = Model(inputs=[w_inputs, c_inputs], outputs=output)\n",
        "model.summary()\n",
        "model.compile(loss='binary_crossentropy', optimizer='adam')\n",
        "plot_model(model, to_file='model.png', show_shapes=True, show_layer_names=True, rankdir='TB')"
      ],
      "execution_count": 40,
      "outputs": [
        {
          "output_type": "stream",
          "text": [
            "Model: \"model_1\"\n",
            "__________________________________________________________________________________________________\n",
            "Layer (type)                    Output Shape         Param #     Connected to                     \n",
            "==================================================================================================\n",
            "input_1 (InputLayer)            [(None, 1)]          0                                            \n",
            "__________________________________________________________________________________________________\n",
            "input_2 (InputLayer)            [(None, 1)]          0                                            \n",
            "__________________________________________________________________________________________________\n",
            "embedding (Embedding)           (None, 1, 100)       6427700     input_1[0][0]                    \n",
            "__________________________________________________________________________________________________\n",
            "embedding_1 (Embedding)         (None, 1, 100)       6427700     input_2[0][0]                    \n",
            "__________________________________________________________________________________________________\n",
            "dot (Dot)                       (None, 1, 1)         0           embedding[0][0]                  \n",
            "                                                                 embedding_1[0][0]                \n",
            "__________________________________________________________________________________________________\n",
            "reshape (Reshape)               (None, 1)            0           dot[0][0]                        \n",
            "__________________________________________________________________________________________________\n",
            "activation (Activation)         (None, 1)            0           reshape[0][0]                    \n",
            "==================================================================================================\n",
            "Total params: 12,855,400\n",
            "Trainable params: 12,855,400\n",
            "Non-trainable params: 0\n",
            "__________________________________________________________________________________________________\n"
          ],
          "name": "stdout"
        },
        {
          "output_type": "execute_result",
          "data": {
            "image/png": "[encoded data removed]",
            "text/plain": [
              "<IPython.core.display.Image object>"
            ]
          },
          "metadata": {},
          "execution_count": 40
        }
      ]
    },
    {
      "cell_type": "code",
      "metadata": {
        "colab": {
          "base_uri": "https://localhost:8080/"
        },
        "id": "H1iMDo27w01d",
        "outputId": "f6628665-8530-4651-ede3-0ed28643c8a6"
      },
      "source": [
        "# 모델 학습: 5 epochs\n",
        "# 학습 시간 생각보다 오래 걸린당.. 1 Epoch 도는데 약 30분 걸림\n",
        "\n",
        "for epoch in range(1, 6):\n",
        "    loss = 0\n",
        "    for _, elem in enumerate(skip_grams):\n",
        "        first_elem = np.array(list(zip(*elem[0]))[0], dtype='int32')\n",
        "        second_elem = np.array(list(zip(*elem[0]))[1], dtype='int32')\n",
        "        labels = np.array(elem[1], dtype='int32')\n",
        "        X = [first_elem, second_elem]\n",
        "        Y = labels\n",
        "        loss += model.train_on_batch(X,Y)  \n",
        "    print('Epoch :',epoch, 'Loss :',loss)"
      ],
      "execution_count": 41,
      "outputs": [
        {
          "output_type": "stream",
          "text": [
            "Epoch : 1 Loss : 4625.446107879281\n",
            "Epoch : 2 Loss : 3656.663914212957\n",
            "Epoch : 3 Loss : 3495.4674064610153\n",
            "Epoch : 4 Loss : 3301.890072095208\n",
            "Epoch : 5 Loss : 3079.0945452852175\n"
          ],
          "name": "stdout"
        }
      ]
    },
    {
      "cell_type": "code",
      "metadata": {
        "id": "tZJhLE_bxEHt"
      },
      "source": [
        ""
      ],
      "execution_count": null,
      "outputs": []
    },
    {
      "cell_type": "markdown",
      "metadata": {
        "id": "_5KSxkhmxNpf"
      },
      "source": [
        "## 학습된 모델 결과 확인"
      ]
    },
    {
      "cell_type": "code",
      "metadata": {
        "id": "C8ZB-Qz1xOhR"
      },
      "source": [
        "import gensim\n",
        "\n",
        "# 학습된 임베딩 벡터 저장\n",
        "f = open('SGNS_vectors.txt' ,'w')\n",
        "f.write('{} {}\\n'.format(vocab_size-1, embed_size))\n",
        "vectors = model.get_weights()[0]\n",
        "for word, i in tokenizer.word_index.items():\n",
        "    f.write('{} {}\\n'.format(word, ' '.join(map(str, list(vectors[i, :])))))\n",
        "f.close()"
      ],
      "execution_count": 42,
      "outputs": []
    },
    {
      "cell_type": "code",
      "metadata": {
        "colab": {
          "base_uri": "https://localhost:8080/"
        },
        "id": "blC7_H1pxXQQ",
        "outputId": "17c0a60c-7078-4c11-daf5-c648d7a139b3"
      },
      "source": [
        "# gensim의 .models.KeyedVectors.load_word2vec_format로 로드\n",
        "\n",
        "w2v = gensim.models.KeyedVectors.load_word2vec_format('./SGNS_vectors.txt', binary=False)\n",
        "w2v.most_similar(positive=['soldiers'])"
      ],
      "execution_count": 44,
      "outputs": [
        {
          "output_type": "execute_result",
          "data": {
            "text/plain": [
              "[('towns', 0.8388919234275818),\n",
              " ('wounded', 0.8228965997695923),\n",
              " ('cypriot', 0.8213711380958557),\n",
              " ('systematic', 0.8194918632507324),\n",
              " ('lebanese', 0.8191003203392029),\n",
              " ('lebanon', 0.8094297647476196),\n",
              " ('bayonets', 0.8091503381729126),\n",
              " ('territorial', 0.807280421257019),\n",
              " ('agdam', 0.8070140480995178),\n",
              " ('enemy', 0.8056995272636414)]"
            ]
          },
          "metadata": {},
          "execution_count": 44
        }
      ]
    },
    {
      "cell_type": "code",
      "metadata": {
        "colab": {
          "base_uri": "https://localhost:8080/"
        },
        "id": "5yXXUe8nxbNP",
        "outputId": "53121182-99e0-434b-f17c-6a15e9acbed8"
      },
      "source": [
        "w2v.most_similar(positive=['doctor'])"
      ],
      "execution_count": 45,
      "outputs": [
        {
          "output_type": "execute_result",
          "data": {
            "text/plain": [
              "[('infection', 0.7271538376808167),\n",
              " ('chronic', 0.6403331160545349),\n",
              " ('disease', 0.6348072290420532),\n",
              " ('sugar', 0.6165477633476257),\n",
              " ('doctors', 0.6145190000534058),\n",
              " ('treat', 0.6058534979820251),\n",
              " ('symptoms', 0.6029839515686035),\n",
              " ('clinic', 0.5974957942962646),\n",
              " ('mouth', 0.5953844785690308),\n",
              " ('medication', 0.5883647799491882)]"
            ]
          },
          "metadata": {},
          "execution_count": 45
        }
      ]
    },
    {
      "cell_type": "code",
      "metadata": {
        "colab": {
          "base_uri": "https://localhost:8080/"
        },
        "id": "RZNYdz_Zxbbj",
        "outputId": "835f43a4-f063-447a-c60f-f0ba489eeaba"
      },
      "source": [
        "w2v.most_similar(positive=['police'])"
      ],
      "execution_count": 46,
      "outputs": [
        {
          "output_type": "execute_result",
          "data": {
            "text/plain": [
              "[('abiding', 0.6396111845970154),\n",
              " ('courts', 0.6374273300170898),\n",
              " ('identify', 0.635732889175415),\n",
              " ('violations', 0.6318261027336121),\n",
              " ('bayonets', 0.6215081214904785),\n",
              " ('charges', 0.6199342012405396),\n",
              " ('positive', 0.61475670337677),\n",
              " ('govt', 0.6138491630554199),\n",
              " ('civilian', 0.6108370423316956),\n",
              " ('constitutional', 0.6107342839241028)]"
            ]
          },
          "metadata": {},
          "execution_count": 46
        }
      ]
    },
    {
      "cell_type": "code",
      "metadata": {
        "id": "vo90jbO2SHT_"
      },
      "source": [
        ""
      ],
      "execution_count": null,
      "outputs": []
    }
  ]
}